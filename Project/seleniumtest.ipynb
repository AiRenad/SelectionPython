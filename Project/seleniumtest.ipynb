{
 "cells": [
  {
   "cell_type": "code",
   "execution_count": 1,
   "metadata": {},
   "outputs": [],
   "source": [
    "from selenium import webdriver\n",
    "from selenium.webdriver.common.keys import Keys\n",
    "from selenium.webdriver.common.by import By\n",
    "from selenium.webdriver.support.ui import WebDriverWait\n",
    "from selenium.webdriver.support import expected_conditions as EC\n",
    "from selenium.common.exceptions import NoSuchElementException\n",
    "\n",
    "\n",
    "from time import sleep\n",
    "import logging\n",
    "\n",
    "logging.disable(logging.CRITICAL)\n",
    "logging.disable(logging.DEBUG)\n",
    "\n",
    "# Opening Chrome\n",
    "try:\n",
    "    options = webdriver.ChromeOptions()\n",
    "    # options.add_argument('--headless=new')\n",
    "    options.add_argument(\"--disable-logging\")\n",
    "    options.add_argument(\"--log-level=1\")\n",
    "    options.add_argument(\"--window-size=1920,1080\")\n",
    "    options.add_experimental_option(\"excludeSwitches\", [\"enable-logging\"])\n",
    "    browser = webdriver.Chrome(options=options)\n",
    "except Exception as e:\n",
    "    print(\n",
    "        \"Please install or update Chrome from this link: https://www.google.com/chrome/\"\n",
    "    )\n",
    "    sleep(3)\n",
    "    raise e"
   ]
  }
 ],
 "metadata": {
  "kernelspec": {
   "display_name": "Selenium",
   "language": "python",
   "name": "python3"
  },
  "language_info": {
   "codemirror_mode": {
    "name": "ipython",
    "version": 3
   },
   "file_extension": ".py",
   "mimetype": "text/x-python",
   "name": "python",
   "nbconvert_exporter": "python",
   "pygments_lexer": "ipython3",
   "version": "3.11.7"
  }
 },
 "nbformat": 4,
 "nbformat_minor": 2
}
